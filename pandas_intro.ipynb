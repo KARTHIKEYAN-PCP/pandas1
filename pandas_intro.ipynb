{
 "cells": [
  {
   "cell_type": "code",
   "execution_count": 1,
   "id": "008b8223",
   "metadata": {},
   "outputs": [],
   "source": [
    "import pandas as pd"
   ]
  },
  {
   "cell_type": "code",
   "execution_count": 14,
   "id": "39870c07",
   "metadata": {},
   "outputs": [],
   "source": [
    "class karthi:\n",
    "    def read_all(self,file):\n",
    "        file = pd.read_csv(file)\n",
    "        return(file)\n",
    "    def sum_col_jan(self,file):\n",
    "        file = pd.read_csv(file)\n",
    "        sum = 0\n",
    "        for i  in range (0,7):\n",
    "            sum += file['jan_2021'][i]\n",
    "        return (sum)\n",
    "    def sum_col_feb(self,file):\n",
    "        file = pd.read_csv(file)\n",
    "        sum = 0\n",
    "        for i  in range (0,7):\n",
    "            sum += file['feb_2021'][i]\n",
    "        return (sum)\n",
    "    def sum_col_mar(self,file):\n",
    "        file = pd.read_csv(file)\n",
    "        sum = 0\n",
    "        for i  in range (0,7):\n",
    "            sum += file['mar_2021'][i]\n",
    "        return (sum)\n",
    "    def sal_per(self,file):\n",
    "        file = pd.read_csv(file)\n",
    "        sal =[]\n",
    "        sum = 0\n",
    "        for i in range (0,7):\n",
    "            sum = file['jan_2021'][i]+file['feb_2021'][i]+file['mar_2021'][i]\n",
    "            sal.append(sum)\n",
    "            sum = 0\n",
    "        return sal\n",
    "            "
   ]
  },
  {
   "cell_type": "code",
   "execution_count": 13,
   "id": "439b4604",
   "metadata": {},
   "outputs": [],
   "source": [
    "k = karthi()\n",
    "file = 'data.csv'"
   ]
  },
  {
   "cell_type": "code",
   "execution_count": 19,
   "id": "635b33c8",
   "metadata": {},
   "outputs": [
    {
     "name": "stdout",
     "output_type": "stream",
     "text": [
      "-21.978021978021978\n",
      "-9.859154929577464\n"
     ]
    }
   ],
   "source": [
    "#k.read_all(file)\n",
    "#print(k.sal_per(file))\n",
    "x=k.sum_col_jan(file)\n",
    "y=k.sum_col_feb(file)\n",
    "z=k.sum_col_mar(file)\n",
    "\n",
    "percent_diff_janandfeb = ((y - x)/x) * 100\n",
    "print(percent_diff_janandfeb)\n",
    "percent_diff_febandmar = ((z - y)/y) * 100\n",
    "print(percent_diff_febandmar)"
   ]
  },
  {
   "cell_type": "code",
   "execution_count": null,
   "id": "e5f484e8",
   "metadata": {},
   "outputs": [],
   "source": []
  }
 ],
 "metadata": {
  "kernelspec": {
   "display_name": "Python 3",
   "language": "python",
   "name": "python3"
  },
  "language_info": {
   "codemirror_mode": {
    "name": "ipython",
    "version": 3
   },
   "file_extension": ".py",
   "mimetype": "text/x-python",
   "name": "python",
   "nbconvert_exporter": "python",
   "pygments_lexer": "ipython3",
   "version": "3.8.8"
  }
 },
 "nbformat": 4,
 "nbformat_minor": 5
}
